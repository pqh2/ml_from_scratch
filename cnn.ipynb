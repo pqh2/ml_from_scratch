{
 "cells": [
  {
   "cell_type": "code",
   "execution_count": 2,
   "metadata": {
    "collapsed": false,
    "deletable": true,
    "editable": true
   },
   "outputs": [],
   "source": [
    "from __future__ import absolute_import\n",
    "from __future__ import division\n",
    "from __future__ import print_function\n",
    "\n",
    "# Imports\n",
    "import numpy as np\n",
    "import tensorflow as tf\n",
    "\n",
    "from tensorflow.contrib import learn\n",
    "from tensorflow.contrib.learn.python.learn.estimators import model_fn as model_fn_lib\n",
    "\n",
    "tf.logging.set_verbosity(tf.logging.INFO)"
   ]
  },
  {
   "cell_type": "code",
   "execution_count": 28,
   "metadata": {
    "collapsed": false,
    "deletable": true,
    "editable": true
   },
   "outputs": [],
   "source": [
    "def cnn_model_fn(features, labels, mode):\n",
    "  \"\"\"Model function for CNN.\"\"\"\n",
    "  # Input Layer\n",
    "  input_layer = tf.reshape(features, [-1, 28, 28, 1])\n",
    "\n",
    "  # Convolutional Layer #1\n",
    "  conv11 = tf.layers.conv2d(\n",
    "      inputs=input_layer,\n",
    "      filters=32,\n",
    "      kernel_size=[3, 3],\n",
    "      padding=\"same\",\n",
    "      activation=tf.nn.relu)\n",
    "\n",
    "  # Convolutional Layer #1\n",
    "  conv12 = tf.layers.conv2d(\n",
    "      inputs=conv11,\n",
    "      filters=32,\n",
    "      kernel_size=[3, 3],\n",
    "      padding=\"same\",\n",
    "      activation=tf.nn.relu)\n",
    "\n",
    "  # Pooling Layer #1\n",
    "  pool1 = tf.layers.max_pooling2d(inputs=conv12, pool_size=[2, 2], strides=2)\n",
    "\n",
    "  # Convolutional Layer #2 and Pooling Layer #2\n",
    "  conv21 = tf.layers.conv2d(\n",
    "      inputs=pool1,\n",
    "      filters=64,\n",
    "      kernel_size=[3, 3],\n",
    "      padding=\"same\",\n",
    "      activation=tf.nn.relu)\n",
    "\n",
    "  conv22 = tf.layers.conv2d(\n",
    "      inputs=pool1,\n",
    "      filters=64,\n",
    "      kernel_size=[3, 3],\n",
    "      padding=\"same\",\n",
    "      activation=tf.nn.relu)\n",
    "\n",
    "    \n",
    "  pool2 = tf.layers.max_pooling2d(inputs=conv22, pool_size=[2, 2], strides=2)\n",
    "\n",
    "  # Dense Layer\n",
    "  print (pool2.shape)\n",
    "  pool2_flat = tf.reshape(pool2, [-1, int(pool2.shape[1] * pool2.shape[2] * pool2.shape[3])])\n",
    "  dense = tf.layers.dense(inputs=pool2_flat, units=1024, activation=tf.nn.relu)\n",
    "  dropout = tf.layers.dropout(\n",
    "      inputs=dense, rate=0.4, training=mode == learn.ModeKeys.TRAIN)\n",
    "\n",
    "  # Logits Layer\n",
    "  logits = tf.layers.dense(inputs=dropout, units=10)\n",
    "\n",
    "  loss = None\n",
    "  train_op = None\n",
    "\n",
    "  # Calculate Loss (for both TRAIN and EVAL modes)\n",
    "  if mode != learn.ModeKeys.INFER:\n",
    "    onehot_labels = tf.one_hot(indices=tf.cast(labels, tf.int32), depth=10)\n",
    "    loss = tf.losses.softmax_cross_entropy(\n",
    "        onehot_labels=onehot_labels, logits=logits)\n",
    "\n",
    "  # Configure the Training Op (for TRAIN mode)\n",
    "  if mode == learn.ModeKeys.TRAIN:\n",
    "    train_op = tf.contrib.layers.optimize_loss(\n",
    "        loss=loss,\n",
    "        global_step=tf.contrib.framework.get_global_step(),\n",
    "        learning_rate=0.001,\n",
    "        optimizer=\"SGD\")\n",
    "\n",
    "  # Generate Predictions\n",
    "  predictions = {\n",
    "      \"classes\": tf.argmax(\n",
    "          input=logits, axis=1),\n",
    "      \"probabilities\": tf.nn.softmax(\n",
    "          logits, name=\"softmax_tensor\")\n",
    "  }\n",
    "\n",
    "  # Return a ModelFnOps object\n",
    "  return model_fn_lib.ModelFnOps(\n",
    "      mode=mode, predictions=predictions, loss=loss, train_op=train_op)"
   ]
  },
  {
   "cell_type": "code",
   "execution_count": 3,
   "metadata": {
    "collapsed": false,
    "deletable": true,
    "editable": true
   },
   "outputs": [
    {
     "name": "stdout",
     "output_type": "stream",
     "text": [
      "Extracting MNIST-data/train-images-idx3-ubyte.gz\n",
      "Extracting MNIST-data/train-labels-idx1-ubyte.gz\n",
      "Extracting MNIST-data/t10k-images-idx3-ubyte.gz\n",
      "Extracting MNIST-data/t10k-labels-idx1-ubyte.gz\n"
     ]
    }
   ],
   "source": [
    "# Load training and eval data\n",
    "mnist = learn.datasets.load_dataset(\"mnist\")\n",
    "train_data = mnist.train.images # Returns np.array\n",
    "train_labels = np.asarray(mnist.train.labels, dtype=np.int32)\n",
    "eval_data = mnist.test.images # Returns np.array\n",
    "eval_labels = np.asarray(mnist.test.labels, dtype=np.int32)"
   ]
  },
  {
   "cell_type": "code",
   "execution_count": 36,
   "metadata": {
    "collapsed": false,
    "deletable": true,
    "editable": true
   },
   "outputs": [
    {
     "name": "stdout",
     "output_type": "stream",
     "text": [
      "INFO:tensorflow:Using default config.\n",
      "INFO:tensorflow:Using config: {'_save_checkpoints_secs': 600, '_num_ps_replicas': 0, '_keep_checkpoint_max': 5, '_task_type': None, '_is_chief': True, '_cluster_spec': <tensorflow.python.training.server_lib.ClusterSpec object at 0x7f5801e24e90>, '_model_dir': '/tmp/mnist_convnet_model_3', '_save_checkpoints_steps': None, '_keep_checkpoint_every_n_hours': 10000, '_session_config': None, '_tf_random_seed': None, '_environment': 'local', '_num_worker_replicas': 0, '_task_id': 0, '_save_summary_steps': 100, '_tf_config': gpu_options {\n",
      "  per_process_gpu_memory_fraction: 1.0\n",
      "}\n",
      ", '_evaluation_master': '', '_master': ''}\n"
     ]
    }
   ],
   "source": [
    "mnist_classifier = learn.Estimator(model_fn=cnn_model_fn, model_dir=\"/tmp/mnist_convnet_model_3\")"
   ]
  },
  {
   "cell_type": "code",
   "execution_count": 37,
   "metadata": {
    "collapsed": false,
    "deletable": true,
    "editable": true
   },
   "outputs": [
    {
     "name": "stdout",
     "output_type": "stream",
     "text": [
      "WARNING:tensorflow:From <ipython-input-37-1c3364111dff>:10: calling fit (from tensorflow.contrib.learn.python.learn.estimators.estimator) with y is deprecated and will be removed after 2016-12-01.\n",
      "Instructions for updating:\n",
      "Estimator is decoupled from Scikit Learn interface by moving into\n",
      "separate class SKCompat. Arguments x, y and batch_size are only\n",
      "available in the SKCompat class, Estimator will only accept input_fn.\n",
      "Example conversion:\n",
      "  est = Estimator(...) -> est = SKCompat(Estimator(...))\n",
      "WARNING:tensorflow:From <ipython-input-37-1c3364111dff>:10: calling fit (from tensorflow.contrib.learn.python.learn.estimators.estimator) with x is deprecated and will be removed after 2016-12-01.\n",
      "Instructions for updating:\n",
      "Estimator is decoupled from Scikit Learn interface by moving into\n",
      "separate class SKCompat. Arguments x, y and batch_size are only\n",
      "available in the SKCompat class, Estimator will only accept input_fn.\n",
      "Example conversion:\n",
      "  est = Estimator(...) -> est = SKCompat(Estimator(...))\n",
      "WARNING:tensorflow:From <ipython-input-37-1c3364111dff>:10: calling fit (from tensorflow.contrib.learn.python.learn.estimators.estimator) with batch_size is deprecated and will be removed after 2016-12-01.\n",
      "Instructions for updating:\n",
      "Estimator is decoupled from Scikit Learn interface by moving into\n",
      "separate class SKCompat. Arguments x, y and batch_size are only\n",
      "available in the SKCompat class, Estimator will only accept input_fn.\n",
      "Example conversion:\n",
      "  est = Estimator(...) -> est = SKCompat(Estimator(...))\n",
      "(?, 7, 7, 64)\n",
      "INFO:tensorflow:Create CheckpointSaverHook.\n",
      "INFO:tensorflow:Saving checkpoints for 1 into /tmp/mnist_convnet_model_3/model.ckpt.\n",
      "INFO:tensorflow:loss = 2.31635, step = 1\n",
      "INFO:tensorflow:global_step/sec: 5.59269\n",
      "INFO:tensorflow:loss = 2.2966, step = 101 (17.881 sec)\n",
      "INFO:tensorflow:global_step/sec: 5.63997\n",
      "INFO:tensorflow:loss = 2.27923, step = 201 (17.731 sec)\n",
      "INFO:tensorflow:global_step/sec: 5.94512\n",
      "INFO:tensorflow:loss = 2.2889, step = 301 (16.820 sec)\n",
      "INFO:tensorflow:global_step/sec: 6.27226\n",
      "INFO:tensorflow:loss = 2.25794, step = 401 (15.943 sec)\n",
      "INFO:tensorflow:global_step/sec: 6.20989\n",
      "INFO:tensorflow:loss = 2.2396, step = 501 (16.103 sec)\n",
      "INFO:tensorflow:global_step/sec: 6.21068\n",
      "INFO:tensorflow:loss = 2.23607, step = 601 (16.101 sec)\n",
      "INFO:tensorflow:global_step/sec: 6.23771\n",
      "INFO:tensorflow:loss = 2.23193, step = 701 (16.031 sec)\n",
      "INFO:tensorflow:global_step/sec: 6.30232\n",
      "INFO:tensorflow:loss = 2.19823, step = 801 (15.867 sec)\n",
      "INFO:tensorflow:global_step/sec: 6.1325\n",
      "INFO:tensorflow:loss = 2.14678, step = 901 (16.307 sec)\n",
      "INFO:tensorflow:global_step/sec: 6.28372\n",
      "INFO:tensorflow:loss = 2.0987, step = 1001 (15.914 sec)\n",
      "INFO:tensorflow:global_step/sec: 6.27424\n",
      "INFO:tensorflow:loss = 2.03726, step = 1101 (15.938 sec)\n",
      "INFO:tensorflow:global_step/sec: 6.27591\n",
      "INFO:tensorflow:loss = 1.85925, step = 1201 (15.934 sec)\n",
      "INFO:tensorflow:global_step/sec: 6.27236\n",
      "INFO:tensorflow:loss = 1.65006, step = 1301 (15.943 sec)\n",
      "INFO:tensorflow:global_step/sec: 6.27614\n",
      "INFO:tensorflow:loss = 1.49823, step = 1401 (15.933 sec)\n",
      "INFO:tensorflow:global_step/sec: 6.29664\n",
      "INFO:tensorflow:loss = 1.19376, step = 1501 (15.881 sec)\n",
      "INFO:tensorflow:global_step/sec: 6.30726\n",
      "INFO:tensorflow:loss = 0.981758, step = 1601 (15.855 sec)\n",
      "INFO:tensorflow:global_step/sec: 6.27063\n",
      "INFO:tensorflow:loss = 0.96185, step = 1701 (15.947 sec)\n",
      "INFO:tensorflow:global_step/sec: 6.27878\n",
      "INFO:tensorflow:loss = 0.780797, step = 1801 (15.927 sec)\n",
      "INFO:tensorflow:global_step/sec: 6.28485\n",
      "INFO:tensorflow:loss = 0.626423, step = 1901 (15.911 sec)\n",
      "INFO:tensorflow:global_step/sec: 6.29337\n",
      "INFO:tensorflow:loss = 0.817797, step = 2001 (15.890 sec)\n",
      "INFO:tensorflow:global_step/sec: 6.26524\n",
      "INFO:tensorflow:loss = 0.654134, step = 2101 (15.961 sec)\n",
      "INFO:tensorflow:global_step/sec: 6.2765\n",
      "INFO:tensorflow:loss = 0.578967, step = 2201 (15.932 sec)\n",
      "INFO:tensorflow:global_step/sec: 6.28595\n",
      "INFO:tensorflow:loss = 0.575789, step = 2301 (15.909 sec)\n",
      "INFO:tensorflow:global_step/sec: 6.25451\n",
      "INFO:tensorflow:loss = 0.513395, step = 2401 (15.988 sec)\n",
      "INFO:tensorflow:global_step/sec: 6.19937\n",
      "INFO:tensorflow:loss = 0.692896, step = 2501 (16.131 sec)\n",
      "INFO:tensorflow:global_step/sec: 6.28442\n",
      "INFO:tensorflow:loss = 0.388709, step = 2601 (15.912 sec)\n",
      "INFO:tensorflow:global_step/sec: 6.26344\n",
      "INFO:tensorflow:loss = 0.509573, step = 2701 (15.966 sec)\n",
      "INFO:tensorflow:global_step/sec: 6.30363\n",
      "INFO:tensorflow:loss = 0.341577, step = 2801 (15.864 sec)\n",
      "INFO:tensorflow:global_step/sec: 6.29621\n",
      "INFO:tensorflow:loss = 0.51935, step = 2901 (15.882 sec)\n",
      "INFO:tensorflow:global_step/sec: 6.20174\n",
      "INFO:tensorflow:loss = 0.493768, step = 3001 (16.124 sec)\n",
      "INFO:tensorflow:global_step/sec: 6.22749\n",
      "INFO:tensorflow:loss = 0.389353, step = 3101 (16.058 sec)\n",
      "INFO:tensorflow:global_step/sec: 6.05568\n",
      "INFO:tensorflow:loss = 0.315085, step = 3201 (16.514 sec)\n",
      "INFO:tensorflow:global_step/sec: 6.03359\n",
      "INFO:tensorflow:loss = 0.334978, step = 3301 (16.574 sec)\n",
      "INFO:tensorflow:global_step/sec: 6.26527\n",
      "INFO:tensorflow:loss = 0.30859, step = 3401 (15.961 sec)\n",
      "INFO:tensorflow:global_step/sec: 6.24135\n",
      "INFO:tensorflow:loss = 0.316471, step = 3501 (16.022 sec)\n",
      "INFO:tensorflow:global_step/sec: 6.24889\n",
      "INFO:tensorflow:loss = 0.411199, step = 3601 (16.003 sec)\n",
      "INFO:tensorflow:global_step/sec: 6.29363\n",
      "INFO:tensorflow:loss = 0.258414, step = 3701 (15.889 sec)\n",
      "INFO:tensorflow:Saving checkpoints for 3723 into /tmp/mnist_convnet_model_3/model.ckpt.\n",
      "INFO:tensorflow:global_step/sec: 6.20828\n",
      "INFO:tensorflow:loss = 0.363752, step = 3801 (16.107 sec)\n",
      "INFO:tensorflow:global_step/sec: 6.26483\n",
      "INFO:tensorflow:loss = 0.322021, step = 3901 (15.962 sec)\n",
      "INFO:tensorflow:global_step/sec: 6.28043\n",
      "INFO:tensorflow:loss = 0.238663, step = 4001 (15.922 sec)\n",
      "INFO:tensorflow:global_step/sec: 5.98719\n",
      "INFO:tensorflow:loss = 0.379455, step = 4101 (16.702 sec)\n",
      "INFO:tensorflow:global_step/sec: 6.29246\n",
      "INFO:tensorflow:loss = 0.264479, step = 4201 (15.892 sec)\n",
      "INFO:tensorflow:global_step/sec: 6.27181\n",
      "INFO:tensorflow:loss = 0.250229, step = 4301 (15.944 sec)\n",
      "INFO:tensorflow:global_step/sec: 6.28565\n",
      "INFO:tensorflow:loss = 0.29813, step = 4401 (15.909 sec)\n",
      "INFO:tensorflow:global_step/sec: 6.05942\n",
      "INFO:tensorflow:loss = 0.250048, step = 4501 (16.503 sec)\n",
      "INFO:tensorflow:global_step/sec: 6.28183\n",
      "INFO:tensorflow:loss = 0.340408, step = 4601 (15.919 sec)\n",
      "INFO:tensorflow:global_step/sec: 6.21311\n",
      "INFO:tensorflow:loss = 0.321112, step = 4701 (16.095 sec)\n",
      "INFO:tensorflow:global_step/sec: 6.26565\n",
      "INFO:tensorflow:loss = 0.256477, step = 4801 (15.960 sec)\n",
      "INFO:tensorflow:global_step/sec: 6.19326\n",
      "INFO:tensorflow:loss = 0.133565, step = 4901 (16.147 sec)\n",
      "INFO:tensorflow:global_step/sec: 6.25787\n",
      "INFO:tensorflow:loss = 0.261004, step = 5001 (15.980 sec)\n",
      "INFO:tensorflow:global_step/sec: 6.16937\n",
      "INFO:tensorflow:loss = 0.241059, step = 5101 (16.209 sec)\n",
      "INFO:tensorflow:global_step/sec: 5.78453\n",
      "INFO:tensorflow:loss = 0.495091, step = 5201 (17.287 sec)\n",
      "INFO:tensorflow:global_step/sec: 6.26592\n",
      "INFO:tensorflow:loss = 0.473543, step = 5301 (15.959 sec)\n",
      "INFO:tensorflow:global_step/sec: 5.83571\n",
      "INFO:tensorflow:loss = 0.160766, step = 5401 (17.136 sec)\n",
      "INFO:tensorflow:global_step/sec: 6.0335\n",
      "INFO:tensorflow:loss = 0.153446, step = 5501 (16.574 sec)\n",
      "INFO:tensorflow:global_step/sec: 6.21642\n",
      "INFO:tensorflow:loss = 0.283318, step = 5601 (16.086 sec)\n",
      "INFO:tensorflow:global_step/sec: 6.04889\n",
      "INFO:tensorflow:loss = 0.328124, step = 5701 (16.533 sec)\n",
      "INFO:tensorflow:global_step/sec: 6.18227\n",
      "INFO:tensorflow:loss = 0.215567, step = 5801 (16.174 sec)\n",
      "INFO:tensorflow:global_step/sec: 6.10733\n",
      "INFO:tensorflow:loss = 0.116767, step = 5901 (16.374 sec)\n",
      "INFO:tensorflow:global_step/sec: 6.06434\n",
      "INFO:tensorflow:loss = 0.193108, step = 6001 (16.490 sec)\n",
      "INFO:tensorflow:global_step/sec: 5.9882\n",
      "INFO:tensorflow:loss = 0.266163, step = 6101 (16.699 sec)\n",
      "INFO:tensorflow:global_step/sec: 5.85348\n",
      "INFO:tensorflow:loss = 0.110221, step = 6201 (17.084 sec)\n",
      "INFO:tensorflow:global_step/sec: 6.12916\n",
      "INFO:tensorflow:loss = 0.289132, step = 6301 (16.315 sec)\n",
      "INFO:tensorflow:global_step/sec: 6.21979\n",
      "INFO:tensorflow:loss = 0.242328, step = 6401 (16.078 sec)\n",
      "INFO:tensorflow:global_step/sec: 6.15278\n",
      "INFO:tensorflow:loss = 0.242042, step = 6501 (16.253 sec)\n",
      "INFO:tensorflow:global_step/sec: 6.26291\n",
      "INFO:tensorflow:loss = 0.30044, step = 6601 (15.967 sec)\n",
      "INFO:tensorflow:global_step/sec: 6.27443\n",
      "INFO:tensorflow:loss = 0.236324, step = 6701 (15.938 sec)\n",
      "INFO:tensorflow:global_step/sec: 5.81265\n",
      "INFO:tensorflow:loss = 0.292154, step = 6801 (17.204 sec)\n",
      "INFO:tensorflow:global_step/sec: 5.94829\n",
      "INFO:tensorflow:loss = 0.212008, step = 6901 (16.812 sec)\n",
      "INFO:tensorflow:global_step/sec: 6.20641\n",
      "INFO:tensorflow:loss = 0.137695, step = 7001 (16.112 sec)\n",
      "INFO:tensorflow:global_step/sec: 5.66219\n",
      "INFO:tensorflow:loss = 0.198625, step = 7101 (17.661 sec)\n",
      "INFO:tensorflow:global_step/sec: 6.04015\n",
      "INFO:tensorflow:loss = 0.182457, step = 7201 (16.556 sec)\n",
      "INFO:tensorflow:global_step/sec: 5.89201\n",
      "INFO:tensorflow:loss = 0.233173, step = 7301 (16.972 sec)\n",
      "INFO:tensorflow:Saving checkpoints for 7384 into /tmp/mnist_convnet_model_3/model.ckpt.\n",
      "INFO:tensorflow:global_step/sec: 5.89896\n",
      "INFO:tensorflow:loss = 0.156548, step = 7401 (16.952 sec)\n",
      "INFO:tensorflow:global_step/sec: 5.94065\n",
      "INFO:tensorflow:loss = 0.133204, step = 7501 (16.833 sec)\n",
      "INFO:tensorflow:global_step/sec: 6.1224\n",
      "INFO:tensorflow:loss = 0.285585, step = 7601 (16.334 sec)\n",
      "INFO:tensorflow:global_step/sec: 6.19561\n",
      "INFO:tensorflow:loss = 0.168895, step = 7701 (16.140 sec)\n",
      "INFO:tensorflow:global_step/sec: 6.2614\n",
      "INFO:tensorflow:loss = 0.255017, step = 7801 (15.971 sec)\n",
      "INFO:tensorflow:global_step/sec: 6.2485\n",
      "INFO:tensorflow:loss = 0.207088, step = 7901 (16.004 sec)\n",
      "INFO:tensorflow:global_step/sec: 6.09882\n",
      "INFO:tensorflow:loss = 0.172019, step = 8001 (16.397 sec)\n",
      "INFO:tensorflow:global_step/sec: 5.93434\n",
      "INFO:tensorflow:loss = 0.139341, step = 8101 (16.851 sec)\n",
      "INFO:tensorflow:global_step/sec: 6.13541\n",
      "INFO:tensorflow:loss = 0.197711, step = 8201 (16.299 sec)\n",
      "INFO:tensorflow:global_step/sec: 5.86854\n",
      "INFO:tensorflow:loss = 0.33737, step = 8301 (17.040 sec)\n",
      "INFO:tensorflow:global_step/sec: 5.86766\n",
      "INFO:tensorflow:loss = 0.216782, step = 8401 (17.043 sec)\n",
      "INFO:tensorflow:global_step/sec: 5.7104\n",
      "INFO:tensorflow:loss = 0.151741, step = 8501 (17.512 sec)\n",
      "INFO:tensorflow:global_step/sec: 6.10373\n",
      "INFO:tensorflow:loss = 0.274039, step = 8601 (16.383 sec)\n",
      "INFO:tensorflow:global_step/sec: 6.03391\n",
      "INFO:tensorflow:loss = 0.344709, step = 8701 (16.573 sec)\n",
      "INFO:tensorflow:global_step/sec: 6.0053\n",
      "INFO:tensorflow:loss = 0.145832, step = 8801 (16.652 sec)\n",
      "INFO:tensorflow:global_step/sec: 5.97497\n",
      "INFO:tensorflow:loss = 0.135597, step = 8901 (16.736 sec)\n",
      "INFO:tensorflow:global_step/sec: 6.10924\n",
      "INFO:tensorflow:loss = 0.156193, step = 9001 (16.369 sec)\n",
      "INFO:tensorflow:global_step/sec: 5.81082\n",
      "INFO:tensorflow:loss = 0.113548, step = 9101 (17.209 sec)\n",
      "INFO:tensorflow:global_step/sec: 6.03396\n",
      "INFO:tensorflow:loss = 0.298801, step = 9201 (16.573 sec)\n",
      "INFO:tensorflow:global_step/sec: 5.48118\n",
      "INFO:tensorflow:loss = 0.259232, step = 9301 (18.244 sec)\n",
      "INFO:tensorflow:global_step/sec: 5.66039\n",
      "INFO:tensorflow:loss = 0.279295, step = 9401 (17.667 sec)\n",
      "INFO:tensorflow:global_step/sec: 5.6482\n",
      "INFO:tensorflow:loss = 0.0570808, step = 9501 (17.705 sec)\n",
      "INFO:tensorflow:global_step/sec: 5.87826\n",
      "INFO:tensorflow:loss = 0.22672, step = 9601 (17.012 sec)\n",
      "INFO:tensorflow:global_step/sec: 5.85953\n",
      "INFO:tensorflow:loss = 0.15287, step = 9701 (17.066 sec)\n",
      "INFO:tensorflow:global_step/sec: 6.08025\n",
      "INFO:tensorflow:loss = 0.114373, step = 9801 (16.447 sec)\n",
      "INFO:tensorflow:global_step/sec: 6.11228\n",
      "INFO:tensorflow:loss = 0.187498, step = 9901 (16.361 sec)\n",
      "INFO:tensorflow:global_step/sec: 6.12874\n",
      "INFO:tensorflow:loss = 0.265714, step = 10001 (16.317 sec)\n",
      "INFO:tensorflow:global_step/sec: 6.12717\n",
      "INFO:tensorflow:loss = 0.19068, step = 10101 (16.321 sec)\n",
      "INFO:tensorflow:global_step/sec: 6.11841\n",
      "INFO:tensorflow:loss = 0.113685, step = 10201 (16.344 sec)\n",
      "INFO:tensorflow:global_step/sec: 6.13114\n",
      "INFO:tensorflow:loss = 0.129795, step = 10301 (16.310 sec)\n",
      "INFO:tensorflow:global_step/sec: 6.11531\n",
      "INFO:tensorflow:loss = 0.228942, step = 10401 (16.352 sec)\n",
      "INFO:tensorflow:global_step/sec: 6.11758\n",
      "INFO:tensorflow:loss = 0.094549, step = 10501 (16.346 sec)\n",
      "INFO:tensorflow:global_step/sec: 6.11411\n",
      "INFO:tensorflow:loss = 0.165636, step = 10601 (16.356 sec)\n",
      "INFO:tensorflow:global_step/sec: 6.11605\n",
      "INFO:tensorflow:loss = 0.162048, step = 10701 (16.350 sec)\n",
      "INFO:tensorflow:global_step/sec: 6.11283\n",
      "INFO:tensorflow:loss = 0.143864, step = 10801 (16.359 sec)\n",
      "INFO:tensorflow:global_step/sec: 6.11385\n",
      "INFO:tensorflow:loss = 0.0792739, step = 10901 (16.356 sec)\n",
      "INFO:tensorflow:Saving checkpoints for 10989 into /tmp/mnist_convnet_model_3/model.ckpt.\n",
      "INFO:tensorflow:global_step/sec: 6.10344\n",
      "INFO:tensorflow:loss = 0.0981455, step = 11001 (16.384 sec)\n",
      "INFO:tensorflow:global_step/sec: 6.10128\n",
      "INFO:tensorflow:loss = 0.184065, step = 11101 (16.390 sec)\n",
      "INFO:tensorflow:global_step/sec: 6.10838\n",
      "INFO:tensorflow:loss = 0.224831, step = 11201 (16.371 sec)\n",
      "INFO:tensorflow:global_step/sec: 6.14139\n",
      "INFO:tensorflow:loss = 0.194742, step = 11301 (16.283 sec)\n",
      "INFO:tensorflow:global_step/sec: 6.13525\n",
      "INFO:tensorflow:loss = 0.157312, step = 11401 (16.299 sec)\n",
      "INFO:tensorflow:global_step/sec: 5.87437\n",
      "INFO:tensorflow:loss = 0.0824709, step = 11501 (17.023 sec)\n",
      "INFO:tensorflow:global_step/sec: 5.93864\n",
      "INFO:tensorflow:loss = 0.0975075, step = 11601 (16.839 sec)\n",
      "INFO:tensorflow:global_step/sec: 6.06445\n",
      "INFO:tensorflow:loss = 0.200218, step = 11701 (16.490 sec)\n",
      "INFO:tensorflow:global_step/sec: 6.02438\n",
      "INFO:tensorflow:loss = 0.120036, step = 11801 (16.599 sec)\n",
      "INFO:tensorflow:global_step/sec: 5.74285\n",
      "INFO:tensorflow:loss = 0.129098, step = 11901 (17.413 sec)\n",
      "INFO:tensorflow:global_step/sec: 5.90899\n",
      "INFO:tensorflow:loss = 0.0728789, step = 12001 (16.923 sec)\n",
      "INFO:tensorflow:global_step/sec: 6.10304\n",
      "INFO:tensorflow:loss = 0.195282, step = 12101 (16.385 sec)\n",
      "INFO:tensorflow:global_step/sec: 6.11897\n",
      "INFO:tensorflow:loss = 0.259028, step = 12201 (16.343 sec)\n",
      "INFO:tensorflow:global_step/sec: 6.11121\n",
      "INFO:tensorflow:loss = 0.0479314, step = 12301 (16.363 sec)\n",
      "INFO:tensorflow:global_step/sec: 6.11255\n",
      "INFO:tensorflow:loss = 0.155645, step = 12401 (16.360 sec)\n",
      "INFO:tensorflow:global_step/sec: 6.12967\n",
      "INFO:tensorflow:loss = 0.272119, step = 12501 (16.314 sec)\n",
      "INFO:tensorflow:global_step/sec: 6.10674\n",
      "INFO:tensorflow:loss = 0.13955, step = 12601 (16.375 sec)\n",
      "INFO:tensorflow:global_step/sec: 6.0946\n",
      "INFO:tensorflow:loss = 0.233918, step = 12701 (16.408 sec)\n",
      "INFO:tensorflow:global_step/sec: 6.1125\n",
      "INFO:tensorflow:loss = 0.107881, step = 12801 (16.360 sec)\n",
      "INFO:tensorflow:global_step/sec: 6.09875\n",
      "INFO:tensorflow:loss = 0.073179, step = 12901 (16.397 sec)\n",
      "INFO:tensorflow:global_step/sec: 6.08861\n",
      "INFO:tensorflow:loss = 0.0762661, step = 13001 (16.424 sec)\n",
      "INFO:tensorflow:global_step/sec: 6.07302\n",
      "INFO:tensorflow:loss = 0.0485017, step = 13101 (16.466 sec)\n",
      "INFO:tensorflow:global_step/sec: 6.10832\n",
      "INFO:tensorflow:loss = 0.247077, step = 13201 (16.371 sec)\n",
      "INFO:tensorflow:global_step/sec: 6.10444\n",
      "INFO:tensorflow:loss = 0.140348, step = 13301 (16.381 sec)\n",
      "INFO:tensorflow:global_step/sec: 6.08673\n",
      "INFO:tensorflow:loss = 0.225736, step = 13401 (16.429 sec)\n",
      "INFO:tensorflow:global_step/sec: 6.11143\n",
      "INFO:tensorflow:loss = 0.158158, step = 13501 (16.363 sec)\n",
      "INFO:tensorflow:global_step/sec: 6.09484\n",
      "INFO:tensorflow:loss = 0.103002, step = 13601 (16.407 sec)\n",
      "INFO:tensorflow:global_step/sec: 6.09341\n",
      "INFO:tensorflow:loss = 0.110148, step = 13701 (16.411 sec)\n",
      "INFO:tensorflow:global_step/sec: 6.09751\n",
      "INFO:tensorflow:loss = 0.118501, step = 13801 (16.400 sec)\n",
      "INFO:tensorflow:global_step/sec: 5.69277\n",
      "INFO:tensorflow:loss = 0.158462, step = 13901 (17.566 sec)\n",
      "INFO:tensorflow:global_step/sec: 6.11644\n",
      "INFO:tensorflow:loss = 0.201346, step = 14001 (16.349 sec)\n",
      "INFO:tensorflow:global_step/sec: 6.10987\n",
      "INFO:tensorflow:loss = 0.125147, step = 14101 (16.367 sec)\n",
      "INFO:tensorflow:global_step/sec: 6.09253\n",
      "INFO:tensorflow:loss = 0.0951849, step = 14201 (16.413 sec)\n",
      "INFO:tensorflow:global_step/sec: 6.06298\n",
      "INFO:tensorflow:loss = 0.0673772, step = 14301 (16.494 sec)\n",
      "INFO:tensorflow:global_step/sec: 5.96321\n",
      "INFO:tensorflow:loss = 0.121888, step = 14401 (16.769 sec)\n",
      "INFO:tensorflow:global_step/sec: 6.05733\n",
      "INFO:tensorflow:loss = 0.148702, step = 14501 (16.509 sec)\n",
      "INFO:tensorflow:global_step/sec: 6.09656\n",
      "INFO:tensorflow:loss = 0.160443, step = 14601 (16.403 sec)\n",
      "INFO:tensorflow:Saving checkpoints for 14623 into /tmp/mnist_convnet_model_3/model.ckpt.\n",
      "INFO:tensorflow:global_step/sec: 6.07443\n",
      "INFO:tensorflow:loss = 0.257834, step = 14701 (16.462 sec)\n",
      "INFO:tensorflow:global_step/sec: 6.082\n",
      "INFO:tensorflow:loss = 0.0925646, step = 14801 (16.442 sec)\n",
      "INFO:tensorflow:global_step/sec: 6.07429\n",
      "INFO:tensorflow:loss = 0.272739, step = 14901 (16.463 sec)\n",
      "INFO:tensorflow:global_step/sec: 6.09289\n",
      "INFO:tensorflow:loss = 0.0661644, step = 15001 (16.413 sec)\n",
      "INFO:tensorflow:global_step/sec: 6.09105\n",
      "INFO:tensorflow:loss = 0.0877611, step = 15101 (16.417 sec)\n",
      "INFO:tensorflow:global_step/sec: 6.06644\n",
      "INFO:tensorflow:loss = 0.142471, step = 15201 (16.484 sec)\n",
      "INFO:tensorflow:global_step/sec: 6.10388\n",
      "INFO:tensorflow:loss = 0.140514, step = 15301 (16.383 sec)\n",
      "INFO:tensorflow:global_step/sec: 6.11603\n",
      "INFO:tensorflow:loss = 0.0971925, step = 15401 (16.351 sec)\n",
      "INFO:tensorflow:global_step/sec: 6.10196\n",
      "INFO:tensorflow:loss = 0.0968088, step = 15501 (16.388 sec)\n",
      "INFO:tensorflow:global_step/sec: 6.10053\n",
      "INFO:tensorflow:loss = 0.150337, step = 15601 (16.392 sec)\n",
      "INFO:tensorflow:global_step/sec: 6.09988\n",
      "INFO:tensorflow:loss = 0.1092, step = 15701 (16.394 sec)\n",
      "INFO:tensorflow:global_step/sec: 6.06003\n",
      "INFO:tensorflow:loss = 0.1304, step = 15801 (16.502 sec)\n",
      "INFO:tensorflow:global_step/sec: 6.08293\n",
      "INFO:tensorflow:loss = 0.10745, step = 15901 (16.439 sec)\n",
      "INFO:tensorflow:global_step/sec: 6.08439\n",
      "INFO:tensorflow:loss = 0.136807, step = 16001 (16.436 sec)\n",
      "INFO:tensorflow:global_step/sec: 6.0996\n",
      "INFO:tensorflow:loss = 0.0922366, step = 16101 (16.395 sec)\n",
      "INFO:tensorflow:global_step/sec: 6.09484\n",
      "INFO:tensorflow:loss = 0.148913, step = 16201 (16.407 sec)\n",
      "INFO:tensorflow:global_step/sec: 6.10525\n",
      "INFO:tensorflow:loss = 0.033507, step = 16301 (16.379 sec)\n",
      "INFO:tensorflow:global_step/sec: 6.0732\n",
      "INFO:tensorflow:loss = 0.0471837, step = 16401 (16.466 sec)\n",
      "INFO:tensorflow:global_step/sec: 6.08435\n",
      "INFO:tensorflow:loss = 0.111037, step = 16501 (16.436 sec)\n",
      "INFO:tensorflow:global_step/sec: 6.08709\n",
      "INFO:tensorflow:loss = 0.117587, step = 16601 (16.428 sec)\n",
      "INFO:tensorflow:global_step/sec: 6.07965\n",
      "INFO:tensorflow:loss = 0.145883, step = 16701 (16.448 sec)\n",
      "INFO:tensorflow:global_step/sec: 5.94327\n",
      "INFO:tensorflow:loss = 0.110724, step = 16801 (16.826 sec)\n",
      "INFO:tensorflow:global_step/sec: 6.01236\n",
      "INFO:tensorflow:loss = 0.0983758, step = 16901 (16.633 sec)\n",
      "INFO:tensorflow:global_step/sec: 6.08028\n",
      "INFO:tensorflow:loss = 0.131938, step = 17001 (16.446 sec)\n",
      "INFO:tensorflow:global_step/sec: 6.07011\n",
      "INFO:tensorflow:loss = 0.117244, step = 17101 (16.474 sec)\n",
      "INFO:tensorflow:global_step/sec: 6.0891\n",
      "INFO:tensorflow:loss = 0.0954516, step = 17201 (16.423 sec)\n",
      "INFO:tensorflow:global_step/sec: 6.09595\n",
      "INFO:tensorflow:loss = 0.0732692, step = 17301 (16.404 sec)\n",
      "INFO:tensorflow:global_step/sec: 6.08621\n",
      "INFO:tensorflow:loss = 0.15357, step = 17401 (16.431 sec)\n",
      "INFO:tensorflow:global_step/sec: 6.10296\n",
      "INFO:tensorflow:loss = 0.103676, step = 17501 (16.385 sec)\n",
      "INFO:tensorflow:global_step/sec: 6.10236\n",
      "INFO:tensorflow:loss = 0.11344, step = 17601 (16.387 sec)\n",
      "INFO:tensorflow:global_step/sec: 6.09999\n",
      "INFO:tensorflow:loss = 0.0864894, step = 17701 (16.394 sec)\n",
      "INFO:tensorflow:global_step/sec: 5.97536\n",
      "INFO:tensorflow:loss = 0.057577, step = 17801 (16.735 sec)\n",
      "INFO:tensorflow:global_step/sec: 6.07378\n",
      "INFO:tensorflow:loss = 0.227313, step = 17901 (16.464 sec)\n",
      "INFO:tensorflow:global_step/sec: 6.07688\n",
      "INFO:tensorflow:loss = 0.11913, step = 18001 (16.456 sec)\n",
      "INFO:tensorflow:global_step/sec: 6.07002\n",
      "INFO:tensorflow:loss = 0.0364559, step = 18101 (16.474 sec)\n",
      "INFO:tensorflow:global_step/sec: 6.08753\n",
      "INFO:tensorflow:loss = 0.166386, step = 18201 (16.427 sec)\n",
      "INFO:tensorflow:Saving checkpoints for 18270 into /tmp/mnist_convnet_model_3/model.ckpt.\n",
      "INFO:tensorflow:global_step/sec: 6.05255\n",
      "INFO:tensorflow:loss = 0.0972589, step = 18301 (16.522 sec)\n",
      "INFO:tensorflow:global_step/sec: 5.98549\n",
      "INFO:tensorflow:loss = 0.0823891, step = 18401 (16.708 sec)\n",
      "INFO:tensorflow:global_step/sec: 5.92912\n",
      "INFO:tensorflow:loss = 0.124337, step = 18501 (16.865 sec)\n",
      "INFO:tensorflow:global_step/sec: 5.75177\n",
      "INFO:tensorflow:loss = 0.154573, step = 18601 (17.386 sec)\n",
      "INFO:tensorflow:global_step/sec: 6.2837\n",
      "INFO:tensorflow:loss = 0.0878722, step = 18701 (15.914 sec)\n",
      "INFO:tensorflow:global_step/sec: 6.18026\n",
      "INFO:tensorflow:loss = 0.0849762, step = 18801 (16.180 sec)\n",
      "INFO:tensorflow:global_step/sec: 6.14778\n",
      "INFO:tensorflow:loss = 0.0841513, step = 18901 (16.266 sec)\n",
      "INFO:tensorflow:global_step/sec: 6.0894\n",
      "INFO:tensorflow:loss = 0.0459603, step = 19001 (16.422 sec)\n",
      "INFO:tensorflow:global_step/sec: 5.86465\n",
      "INFO:tensorflow:loss = 0.173854, step = 19101 (17.051 sec)\n",
      "INFO:tensorflow:global_step/sec: 6.20254\n",
      "INFO:tensorflow:loss = 0.0436449, step = 19201 (16.122 sec)\n",
      "INFO:tensorflow:global_step/sec: 6.00404\n",
      "INFO:tensorflow:loss = 0.0594674, step = 19301 (16.655 sec)\n",
      "INFO:tensorflow:global_step/sec: 6.01418\n",
      "INFO:tensorflow:loss = 0.105083, step = 19401 (16.627 sec)\n",
      "INFO:tensorflow:global_step/sec: 5.85095\n",
      "INFO:tensorflow:loss = 0.0511223, step = 19501 (17.091 sec)\n",
      "INFO:tensorflow:global_step/sec: 6.12261\n",
      "INFO:tensorflow:loss = 0.0898622, step = 19601 (16.333 sec)\n",
      "INFO:tensorflow:global_step/sec: 6.17634\n",
      "INFO:tensorflow:loss = 0.127822, step = 19701 (16.191 sec)\n",
      "INFO:tensorflow:global_step/sec: 6.07997\n",
      "INFO:tensorflow:loss = 0.128714, step = 19801 (16.448 sec)\n",
      "INFO:tensorflow:global_step/sec: 5.97028\n",
      "INFO:tensorflow:loss = 0.104898, step = 19901 (16.749 sec)\n",
      "INFO:tensorflow:Saving checkpoints for 20000 into /tmp/mnist_convnet_model_3/model.ckpt.\n",
      "INFO:tensorflow:Loss for final step: 0.0500938.\n"
     ]
    },
    {
     "data": {
      "text/plain": [
       "Estimator(params=None)"
      ]
     },
     "execution_count": 37,
     "metadata": {},
     "output_type": "execute_result"
    }
   ],
   "source": [
    "tensors_to_log = {\"probabilities\": \"softmax_tensor\"}\n",
    "logging_hook = tf.train.LoggingTensorHook(\n",
    "  tensors=tensors_to_log, every_n_iter=50)\n",
    "\n",
    "# Train the model\n",
    "mnist_classifier.fit(\n",
    "    x=train_data,\n",
    "    y=train_labels,\n",
    "    batch_size=100,\n",
    "    steps=20000)"
   ]
  },
  {
   "cell_type": "code",
   "execution_count": 38,
   "metadata": {
    "collapsed": false,
    "deletable": true,
    "editable": true
   },
   "outputs": [
    {
     "name": "stdout",
     "output_type": "stream",
     "text": [
      "WARNING:tensorflow:From <ipython-input-38-6eaf7cf59af2>:8: calling evaluate (from tensorflow.contrib.learn.python.learn.estimators.estimator) with y is deprecated and will be removed after 2016-12-01.\n",
      "Instructions for updating:\n",
      "Estimator is decoupled from Scikit Learn interface by moving into\n",
      "separate class SKCompat. Arguments x, y and batch_size are only\n",
      "available in the SKCompat class, Estimator will only accept input_fn.\n",
      "Example conversion:\n",
      "  est = Estimator(...) -> est = SKCompat(Estimator(...))\n",
      "WARNING:tensorflow:From <ipython-input-38-6eaf7cf59af2>:8: calling evaluate (from tensorflow.contrib.learn.python.learn.estimators.estimator) with x is deprecated and will be removed after 2016-12-01.\n",
      "Instructions for updating:\n",
      "Estimator is decoupled from Scikit Learn interface by moving into\n",
      "separate class SKCompat. Arguments x, y and batch_size are only\n",
      "available in the SKCompat class, Estimator will only accept input_fn.\n",
      "Example conversion:\n",
      "  est = Estimator(...) -> est = SKCompat(Estimator(...))\n",
      "(?, 7, 7, 64)\n",
      "INFO:tensorflow:Starting evaluation at 2017-08-01-07:17:57\n",
      "INFO:tensorflow:Restoring parameters from /tmp/mnist_convnet_model_3/model.ckpt-20000\n",
      "INFO:tensorflow:Finished evaluation at 2017-08-01-07:18:01\n",
      "INFO:tensorflow:Saving dict for global step 20000: accuracy = 0.9756, global_step = 20000, loss = 0.0769367\n",
      "{'loss': 0.076936655, 'global_step': 20000, 'accuracy': 0.9756}\n"
     ]
    }
   ],
   "source": [
    "metrics = {\n",
    "    \"accuracy\":\n",
    "        learn.MetricSpec(\n",
    "            metric_fn=tf.metrics.accuracy, prediction_key=\"classes\"),\n",
    "}\n",
    "\n",
    "eval_results = mnist_classifier.evaluate(\n",
    "    x=eval_data, y=eval_labels, metrics=metrics)\n",
    "print(eval_results)"
   ]
  },
  {
   "cell_type": "code",
   "execution_count": 5,
   "metadata": {
    "collapsed": false,
    "deletable": true,
    "editable": true
   },
   "outputs": [
    {
     "name": "stdout",
     "output_type": "stream",
     "text": [
      "Epoch:  0 Test acc:  0.9197 Loss: 0.266715\n",
      "Epoch:  1 Test acc:  0.954 Loss: 0.146833\n",
      "Epoch:  2 Test acc:  0.9654 Loss: 0.117083\n",
      "Epoch:  3 Test acc:  0.9742 Loss: 0.0833736\n",
      "Epoch:  4 Test acc:  0.9776 Loss: 0.0708224\n",
      "Epoch:  5 Test acc:  0.9814 Loss: 0.0576688\n",
      "Epoch:  6 Test acc:  0.9799 Loss: 0.0618946\n",
      "Epoch:  7 Test acc:  0.9807 Loss: 0.0557375\n",
      "Epoch:  8 Test acc:  0.9843 Loss: 0.0473123\n",
      "Epoch:  9 Test acc:  0.9846 Loss: 0.0464348\n",
      "Epoch:  10 Test acc:  0.9837 Loss: 0.0470667\n",
      "Epoch:  11 Test acc:  0.9863 Loss: 0.0420192\n",
      "Epoch:  12 Test acc:  0.9855 Loss: 0.0417595\n",
      "Epoch:  13 Test acc:  0.9866 Loss: 0.0389509\n",
      "Epoch:  14 Test acc:  0.9877 Loss: 0.0387053\n",
      "Epoch:  15 Test acc:  0.9878 Loss: 0.0368648\n",
      "Epoch:  16 Test acc:  0.9874 Loss: 0.035044\n",
      "Epoch:  17 Test acc:  0.9859 Loss: 0.0420563\n",
      "Epoch:  18 Test acc:  0.9875 Loss: 0.0373499\n",
      "Epoch:  19 Test acc:  0.988 Loss: 0.0356115\n"
     ]
    }
   ],
   "source": [
    "x = tf.placeholder(tf.float32, [None, 784])\n",
    "x_reshaped = tf.reshape(x, [-1, 28, 28, 1])\n",
    "\n",
    "\n",
    "# Convolutional Layer #1\n",
    "conv11 = tf.layers.conv2d(\n",
    "  inputs=x_reshaped,\n",
    "  filters=32,\n",
    "  kernel_size=[3, 3],\n",
    "  padding=\"same\",\n",
    "  activation=tf.nn.relu)\n",
    "\n",
    "# Convolutional Layer #1\n",
    "conv12 = tf.layers.conv2d(\n",
    "  inputs=conv11,\n",
    "  filters=32,\n",
    "  kernel_size=[3, 3],\n",
    "  padding=\"same\",\n",
    "  activation=tf.nn.relu)\n",
    "\n",
    "# Pooling Layer #1\n",
    "pool1 = tf.layers.max_pooling2d(inputs=conv12, pool_size=[2, 2], strides=2)\n",
    "\n",
    "# Convolutional Layer #2 and Pooling Layer #2\n",
    "conv21 = tf.layers.conv2d(\n",
    "  inputs=pool1,\n",
    "  filters=64,\n",
    "  kernel_size=[3, 3],\n",
    "  padding=\"same\",\n",
    "  activation=tf.nn.relu)\n",
    "\n",
    "conv22 = tf.layers.conv2d(\n",
    "  inputs=pool1,\n",
    "  filters=64,\n",
    "  kernel_size=[3, 3],\n",
    "  padding=\"same\",\n",
    "  activation=tf.nn.relu)\n",
    "\n",
    "\n",
    "pool2 = tf.layers.max_pooling2d(inputs=conv22, pool_size=[2, 2], strides=2)\n",
    "\n",
    "pool2_flat = tf.reshape(pool2, [-1, int(pool2.shape[1] * pool2.shape[2] * pool2.shape[3])])\n",
    "dense = tf.layers.dense(inputs=pool2_flat, units=1024, activation=tf.nn.relu)\n",
    "dropout = tf.layers.dropout(inputs=dense, rate=0.4)\n",
    "\n",
    "# Logits Layer\n",
    "y = tf.layers.dense(inputs=dropout, units=10)\n",
    "\n",
    "\n",
    "labels_ = tf.placeholder(tf.float32, [None])\n",
    "y_ = tf.one_hot(indices=tf.cast(labels_, tf.int32), depth=10)\n",
    "\n",
    "cross_entropy = tf.losses.softmax_cross_entropy(onehot_labels=y_, logits=y)\n",
    "\n",
    "\n",
    "correct_prediction = tf.equal(tf.argmax(y,1), tf.argmax(y_,1))\n",
    "accuracy = tf.reduce_mean(tf.cast(correct_prediction, tf.float32))\n",
    "\n",
    "train_step = tf.train.GradientDescentOptimizer(0.01).minimize(cross_entropy)\n",
    "sess = tf.InteractiveSession()\n",
    "tf.global_variables_initializer().run()\n",
    "for i in range(20):\n",
    "    for _ in range(500):\n",
    "      batch_xs, batch_ys = mnist.train.next_batch(100)\n",
    "      sess.run(train_step, feed_dict={x: batch_xs, labels_: batch_ys})\n",
    "    #train_accuracy = accuracy.eval(feed_dict=({x: mnist.train.images, labels_: mnist.train.labels}))\n",
    "    test_accuracy = accuracy.eval(feed_dict=({x: mnist.test.images, labels_: mnist.test.labels}))\n",
    "    c_eval = cross_entropy.eval(feed_dict=({x: mnist.test.images, labels_:  mnist.test.labels}))\n",
    "    preds = y.eval(feed_dict=({x: batch_xs, labels_: batch_ys}))\n",
    "    print (\"Epoch: \", i, \"Test acc: \", test_accuracy, 'Loss:', c_eval)\n",
    "    \n"
   ]
  },
  {
   "cell_type": "code",
   "execution_count": 7,
   "metadata": {
    "collapsed": false
   },
   "outputs": [],
   "source": [
    "conv11_eval = conv11.eval(feed_dict=({x: mnist.test.images[:1], labels_:  mnist.test.labels[:1]}))"
   ]
  },
  {
   "cell_type": "code",
   "execution_count": 8,
   "metadata": {
    "collapsed": false,
    "deletable": true,
    "editable": true
   },
   "outputs": [
    {
     "name": "stdout",
     "output_type": "stream",
     "text": [
      "(1, 28, 28, 32)\n"
     ]
    }
   ],
   "source": [
    "print (conv11_eval.shape)"
   ]
  },
  {
   "cell_type": "code",
   "execution_count": 12,
   "metadata": {
    "collapsed": false
   },
   "outputs": [],
   "source": [
    "conv11_eval = np.reshape(conv11_eval, (28, 28, 32))"
   ]
  },
  {
   "cell_type": "code",
   "execution_count": 13,
   "metadata": {
    "collapsed": false
   },
   "outputs": [
    {
     "data": {
      "text/plain": [
       "array([[[ 0.09212791,  0.00026866,  0.        , ...,  0.00684976,\n",
       "          0.00014891,  0.01691123],\n",
       "        [ 0.09212791,  0.00026866,  0.        , ...,  0.00684976,\n",
       "          0.00014891,  0.01691123],\n",
       "        [ 0.09212791,  0.00026866,  0.        , ...,  0.00684976,\n",
       "          0.00014891,  0.01691123],\n",
       "        ..., \n",
       "        [ 0.09212791,  0.00026866,  0.        , ...,  0.00684976,\n",
       "          0.00014891,  0.01691123],\n",
       "        [ 0.09212791,  0.00026866,  0.        , ...,  0.00684976,\n",
       "          0.00014891,  0.01691123],\n",
       "        [ 0.09212791,  0.00026866,  0.        , ...,  0.00684976,\n",
       "          0.00014891,  0.01691123]],\n",
       "\n",
       "       [[ 0.09212791,  0.00026866,  0.        , ...,  0.00684976,\n",
       "          0.00014891,  0.01691123],\n",
       "        [ 0.09212791,  0.00026866,  0.        , ...,  0.00684976,\n",
       "          0.00014891,  0.01691123],\n",
       "        [ 0.09212791,  0.00026866,  0.        , ...,  0.00684976,\n",
       "          0.00014891,  0.01691123],\n",
       "        ..., \n",
       "        [ 0.09212791,  0.00026866,  0.        , ...,  0.00684976,\n",
       "          0.00014891,  0.01691123],\n",
       "        [ 0.09212791,  0.00026866,  0.        , ...,  0.00684976,\n",
       "          0.00014891,  0.01691123],\n",
       "        [ 0.09212791,  0.00026866,  0.        , ...,  0.00684976,\n",
       "          0.00014891,  0.01691123]],\n",
       "\n",
       "       [[ 0.09212791,  0.00026866,  0.        , ...,  0.00684976,\n",
       "          0.00014891,  0.01691123],\n",
       "        [ 0.09212791,  0.00026866,  0.        , ...,  0.00684976,\n",
       "          0.00014891,  0.01691123],\n",
       "        [ 0.09212791,  0.00026866,  0.        , ...,  0.00684976,\n",
       "          0.00014891,  0.01691123],\n",
       "        ..., \n",
       "        [ 0.09212791,  0.00026866,  0.        , ...,  0.00684976,\n",
       "          0.00014891,  0.01691123],\n",
       "        [ 0.09212791,  0.00026866,  0.        , ...,  0.00684976,\n",
       "          0.00014891,  0.01691123],\n",
       "        [ 0.09212791,  0.00026866,  0.        , ...,  0.00684976,\n",
       "          0.00014891,  0.01691123]],\n",
       "\n",
       "       ..., \n",
       "       [[ 0.09212791,  0.00026866,  0.        , ...,  0.00684976,\n",
       "          0.00014891,  0.01691123],\n",
       "        [ 0.09212791,  0.00026866,  0.        , ...,  0.00684976,\n",
       "          0.00014891,  0.01691123],\n",
       "        [ 0.09212791,  0.00026866,  0.        , ...,  0.00684976,\n",
       "          0.00014891,  0.01691123],\n",
       "        ..., \n",
       "        [ 0.09212791,  0.00026866,  0.        , ...,  0.00684976,\n",
       "          0.00014891,  0.01691123],\n",
       "        [ 0.09212791,  0.00026866,  0.        , ...,  0.00684976,\n",
       "          0.00014891,  0.01691123],\n",
       "        [ 0.09212791,  0.00026866,  0.        , ...,  0.00684976,\n",
       "          0.00014891,  0.01691123]],\n",
       "\n",
       "       [[ 0.09212791,  0.00026866,  0.        , ...,  0.00684976,\n",
       "          0.00014891,  0.01691123],\n",
       "        [ 0.09212791,  0.00026866,  0.        , ...,  0.00684976,\n",
       "          0.00014891,  0.01691123],\n",
       "        [ 0.09212791,  0.00026866,  0.        , ...,  0.00684976,\n",
       "          0.00014891,  0.01691123],\n",
       "        ..., \n",
       "        [ 0.09212791,  0.00026866,  0.        , ...,  0.00684976,\n",
       "          0.00014891,  0.01691123],\n",
       "        [ 0.09212791,  0.00026866,  0.        , ...,  0.00684976,\n",
       "          0.00014891,  0.01691123],\n",
       "        [ 0.09212791,  0.00026866,  0.        , ...,  0.00684976,\n",
       "          0.00014891,  0.01691123]],\n",
       "\n",
       "       [[ 0.09212791,  0.00026866,  0.        , ...,  0.00684976,\n",
       "          0.00014891,  0.01691123],\n",
       "        [ 0.09212791,  0.00026866,  0.        , ...,  0.00684976,\n",
       "          0.00014891,  0.01691123],\n",
       "        [ 0.09212791,  0.00026866,  0.        , ...,  0.00684976,\n",
       "          0.00014891,  0.01691123],\n",
       "        ..., \n",
       "        [ 0.09212791,  0.00026866,  0.        , ...,  0.00684976,\n",
       "          0.00014891,  0.01691123],\n",
       "        [ 0.09212791,  0.00026866,  0.        , ...,  0.00684976,\n",
       "          0.00014891,  0.01691123],\n",
       "        [ 0.09212791,  0.00026866,  0.        , ...,  0.00684976,\n",
       "          0.00014891,  0.01691123]]], dtype=float32)"
      ]
     },
     "execution_count": 13,
     "metadata": {},
     "output_type": "execute_result"
    }
   ],
   "source": [
    "conv11_eval"
   ]
  },
  {
   "cell_type": "code",
   "execution_count": 21,
   "metadata": {
    "collapsed": false
   },
   "outputs": [
    {
     "data": {
      "image/png": "[encoded data removed]",
      "text/plain": [
       "<matplotlib.figure.Figure at 0x7f353a5dfbd0>"
      ]
     },
     "metadata": {},
     "output_type": "display_data"
    },
    {
     "data": {
      "image/png": "[encoded data removed]",
      "text/plain": [
       "<matplotlib.figure.Figure at 0x7f353a95b810>"
      ]
     },
     "metadata": {},
     "output_type": "display_data"
    },
    {
     "data": {
      "image/png": "[encoded data removed]",
      "text/plain": [
       "<matplotlib.figure.Figure at 0x7f353a4c0f50>"
      ]
     },
     "metadata": {},
     "output_type": "display_data"
    },
    {
     "data": {
      "image/png": "[encoded data removed]",
      "text/plain": [
       "<matplotlib.figure.Figure at 0x7f353a497b90>"
      ]
     },
     "metadata": {},
     "output_type": "display_data"
    },
    {
     "data": {
      "image/png": "[encoded data removed]",
      "text/plain": [
       "<matplotlib.figure.Figure at 0x7f353a589350>"
      ]
     },
     "metadata": {},
     "output_type": "display_data"
    },
    {
     "data": {
      "image/png": "[encoded data removed]",
      "text/plain": [
       "<matplotlib.figure.Figure at 0x7f353c9ef110>"
      ]
     },
     "metadata": {},
     "output_type": "display_data"
    },
    {
     "data": {
      "image/png": "[encoded data removed]",
      "text/plain": [
       "<matplotlib.figure.Figure at 0x7f353a2485d0>"
      ]
     },
     "metadata": {},
     "output_type": "display_data"
    },
    {
     "data": {
      "image/png": "[encoded data removed]",
      "text/plain": [
       "<matplotlib.figure.Figure at 0x7f353a61ca90>"
      ]
     },
     "metadata": {},
     "output_type": "display_data"
    },
    {
     "data": {
      "image/png": "[encoded data removed]",
      "text/plain": [
       "<matplotlib.figure.Figure at 0x7f353a2f8f50>"
      ]
     },
     "metadata": {},
     "output_type": "display_data"
    },
    {
     "data": {
      "image/png": "[encoded data removed]",
      "text/plain": [
       "<matplotlib.figure.Figure at 0x7f353a3ae390>"
      ]
     },
     "metadata": {},
     "output_type": "display_data"
    },
    {
     "data": {
      "image/png": "[encoded data removed]",
      "text/plain": [
       "<matplotlib.figure.Figure at 0x7f353a702850>"
      ]
     },
     "metadata": {},
     "output_type": "display_data"
    },
    {
     "data": {
      "image/png": "[encoded data removed]",
      "text/plain": [
       "<matplotlib.figure.Figure at 0x7f353a797dd0>"
      ]
     },
     "metadata": {},
     "output_type": "display_data"
    },
    {
     "data": {
      "image/png": "[encoded data removed]",
      "text/plain": [
       "<matplotlib.figure.Figure at 0x7f353a63a2d0>"
      ]
     },
     "metadata": {},
     "output_type": "display_data"
    },
    {
     "data": {
      "image/png": "[encoded data removed]",
      "text/plain": [
       "<matplotlib.figure.Figure at 0x7f353a8b4f50>"
      ]
     },
     "metadata": {},
     "output_type": "display_data"
    },
    {
     "data": {
      "image/png": "[encoded data removed]",
      "text/plain": [
       "<matplotlib.figure.Figure at 0x7f353a7cc090>"
      ]
     },
     "metadata": {},
     "output_type": "display_data"
    },
    {
     "data": {
      "image/png": "[encoded data removed]",
      "text/plain": [
       "<matplotlib.figure.Figure at 0x7f353a66c450>"
      ]
     },
     "metadata": {},
     "output_type": "display_data"
    },
    {
     "data": {
      "image/png": "[encoded data removed]",
      "text/plain": [
       "<matplotlib.figure.Figure at 0x7f353a4d7f90>"
      ]
     },
     "metadata": {},
     "output_type": "display_data"
    },
    {
     "data": {
      "image/png": "[encoded data removed]",
      "text/plain": [
       "<matplotlib.figure.Figure at 0x7f353ca825d0>"
      ]
     },
     "metadata": {},
     "output_type": "display_data"
    },
    {
     "data": {
      "image/png": "[encoded data removed]",
      "text/plain": [
       "<matplotlib.figure.Figure at 0x7f353a6839d0>"
      ]
     },
     "metadata": {},
     "output_type": "display_data"
    },
    {
     "data": {
      "image/png": "[encoded data removed]",
      "text/plain": [
       "<matplotlib.figure.Figure at 0x7f353a3cbf10>"
      ]
     },
     "metadata": {},
     "output_type": "display_data"
    },
    {
     "data": {
      "image/png": "[encoded data removed]",
      "text/plain": [
       "<matplotlib.figure.Figure at 0x7f353a5c5350>"
      ]
     },
     "metadata": {},
     "output_type": "display_data"
    },
    {
     "data": {
      "image/png": "[encoded data removed]",
      "text/plain": [
       "<matplotlib.figure.Figure at 0x7f353a2f2f90>"
      ]
     },
     "metadata": {},
     "output_type": "display_data"
    },
    {
     "data": {
      "image/png": "[encoded data removed]",
      "text/plain": [
       "<matplotlib.figure.Figure at 0x7f353a2abcd0>"
      ]
     },
     "metadata": {},
     "output_type": "display_data"
    },
    {
     "data": {
      "image/png": "[encoded data removed]",
      "text/plain": [
       "<matplotlib.figure.Figure at 0x7f353a3601d0>"
      ]
     },
     "metadata": {},
     "output_type": "display_data"
    },
    {
     "data": {
      "image/png": "[encoded data removed]",
      "text/plain": [
       "<matplotlib.figure.Figure at 0x7f353a23afd0>"
      ]
     },
     "metadata": {},
     "output_type": "display_data"
    },
    {
     "data": {
      "image/png": "[encoded data removed]",
      "text/plain": [
       "<matplotlib.figure.Figure at 0x7f353a32ba50>"
      ]
     },
     "metadata": {},
     "output_type": "display_data"
    },
    {
     "data": {
      "image/png": "[encoded data removed]",
      "text/plain": [
       "<matplotlib.figure.Figure at 0x7f353a5d9610>"
      ]
     },
     "metadata": {},
     "output_type": "display_data"
    },
    {
     "data": {
      "image/png": "[encoded data removed]",
      "text/plain": [
       "<matplotlib.figure.Figure at 0x7f353c9a7090>"
      ]
     },
     "metadata": {},
     "output_type": "display_data"
    },
    {
     "data": {
      "image/png": "[encoded data removed]",
      "text/plain": [
       "<matplotlib.figure.Figure at 0x7f353ca754d0>"
      ]
     },
     "metadata": {},
     "output_type": "display_data"
    },
    {
     "data": {
      "image/png": "[encoded data removed]",
      "text/plain": [
       "<matplotlib.figure.Figure at 0x7f353a397a50>"
      ]
     },
     "metadata": {},
     "output_type": "display_data"
    },
    {
     "data": {
      "image/png": "[encoded data removed]",
      "text/plain": [
       "<matplotlib.figure.Figure at 0x7f353a975e50>"
      ]
     },
     "metadata": {},
     "output_type": "display_data"
    },
    {
     "data": {
      "image/png": "[encoded data removed]",
      "text/plain": [
       "<matplotlib.figure.Figure at 0x7f353a54a410>"
      ]
     },
     "metadata": {},
     "output_type": "display_data"
    }
   ],
   "source": [
    "import numpy as np\n",
    "import matplotlib.pyplot as plt\n",
    "import matplotlib.cm as cm\n",
    "\n",
    "for i in range(32):\n",
    "    x = np.array(conv11_eval[:, :, i])\n",
    "    nrows, ncols = 28, 28\n",
    "    grid = np.reshape(x, (nrows, ncols))\n",
    "\n",
    "    plt.imshow(grid, interpolation='nearest', cmap='binary')\n",
    "    plt.show()"
   ]
  },
  {
   "cell_type": "code",
   "execution_count": null,
   "metadata": {
    "collapsed": true
   },
   "outputs": [],
   "source": []
  }
 ],
 "metadata": {
  "kernelspec": {
   "display_name": "Python 2",
   "language": "python",
   "name": "python2"
  },
  "language_info": {
   "codemirror_mode": {
    "name": "ipython",
    "version": 2
   },
   "file_extension": ".py",
   "mimetype": "text/x-python",
   "name": "python",
   "nbconvert_exporter": "python",
   "pygments_lexer": "ipython2",
   "version": "2.7.12"
  }
 },
 "nbformat": 4,
 "nbformat_minor": 2
}
